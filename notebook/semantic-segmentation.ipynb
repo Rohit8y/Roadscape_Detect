{
 "cells": [
  {
   "cell_type": "code",
   "execution_count": 1,
   "id": "10725d2c",
   "metadata": {},
   "outputs": [],
   "source": [
    "import os\n",
    "import cv2\n",
    "\n",
    "from detectron2.checkpoint import DetectionCheckpointer\n",
    "from detectron2.config import get_cfg\n",
    "from detectron2 import model_zoo\n",
    "from detectron2.engine import DefaultPredictor\n",
    "from detectron2.utils.visualizer import Visualizer\n",
    "from detectron2.data import MetadataCatalog, DatasetCatalog"
   ]
  },
  {
   "cell_type": "code",
   "execution_count": 2,
   "id": "4f01a12f",
   "metadata": {},
   "outputs": [],
   "source": [
    "# Initialise model\n",
    "cfg = get_cfg()\n",
    "cfg.merge_from_file(model_zoo.get_config_file(\"COCO-PanopticSegmentation/panoptic_fpn_R_101_3x.yaml\"))\n",
    "cfg.MODEL.WEIGHTS = model_zoo.get_checkpoint_url(\"COCO-PanopticSegmentation/panoptic_fpn_R_101_3x.yaml\")\n",
    "cfg.MODEL.DEVICE = \"cpu\"\n",
    "predictor = DefaultPredictor(cfg)"
   ]
  },
  {
   "cell_type": "code",
   "execution_count": 4,
   "id": "c5218bbd",
   "metadata": {},
   "outputs": [
    {
     "name": "stdout",
     "output_type": "stream",
     "text": [
      "Processing...  6178_3003_0.jpg\n",
      "Processing...  6178_2473_0.jpg\n",
      "Processing...  6176_1752_0.jpg\n",
      "Processing...  6180_1734_0.jpg\n"
     ]
    }
   ],
   "source": [
    "data_dir = \"data/scene/\"\n",
    "output_dir = \"output/\"\n",
    "if not os.path.exists(output_dir):\n",
    "    os.mkdir(output_dir)\n",
    "    \n",
    "imageList = os.listdir(data_dir)\n",
    "for image in imageList:\n",
    "    print(\"Processing... \",image)\n",
    "    input_image = cv2.imread(os.path.join(data_dir, image))\n",
    "    height, width, _ = input_image.shape\n",
    "        \n",
    "    panoptic_seg, segments_info = predictor(input_image)[\"panoptic_seg\"]\n",
    "    v = Visualizer(input_image[:, :, ::-1], MetadataCatalog.get(cfg.DATASETS.TRAIN[0]), scale=1.2)\n",
    "    out = v.draw_panoptic_seg_predictions(panoptic_seg.to(\"cpu\"), segments_info)\n",
    "    segmented_image = out.get_image()[:, :, ::-1]\n",
    "    \n",
    "    # Resize image if required\n",
    "    if not segmented_image.shape[:2] == (height, width):\n",
    "        segmented_image = cv2.resize(segmented_image, (height, width))\n",
    "    \n",
    "    # Combine the segmented and orignal image\n",
    "    combined_image = cv2.hconcat([segmented_image, input_image])\n",
    "    cv2.imwrite(os.path.join(output_dir, image),combined_image)"
   ]
  }
 ],
 "metadata": {
  "kernelspec": {
   "display_name": "Python 3 (ipykernel)",
   "language": "python",
   "name": "python3"
  },
  "language_info": {
   "codemirror_mode": {
    "name": "ipython",
    "version": 3
   },
   "file_extension": ".py",
   "mimetype": "text/x-python",
   "name": "python",
   "nbconvert_exporter": "python",
   "pygments_lexer": "ipython3",
   "version": "3.10.10"
  }
 },
 "nbformat": 4,
 "nbformat_minor": 5
}
